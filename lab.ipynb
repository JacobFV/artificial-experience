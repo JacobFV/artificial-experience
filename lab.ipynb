{
 "cells": [
  {
   "cell_type": "code",
   "execution_count": 4,
   "metadata": {},
   "outputs": [],
   "source": [
    "for name in [\n",
    "    'GymEnv',\n",
    "    'RLLibEnv',\n",
    "    'DatasetEnv',\n",
    "    'Syn_Env',\n",
    "    'Interleave',\n",
    "    'Multitasking',\n",
    "    'Teacher',\n",
    "    'Augment',\n",
    "    'Dropout',\n",
    "    'Noisy',\n",
    "    'Repeat',\n",
    "    'Drop_Key_Value',\n",
    "    'Observe_Reward',\n",
    "    'Advantage',\n",
    "    'Observe_Actions',\n",
    "    'Predict_Inputs',\n",
    "    'Static_Timescaled',\n",
    "    'Dynamic_Timescaled',\n",
    "    'Penalize_Compute'\n",
    "]:\n",
    "    !echo \"\" > artificial_experience/environments/{name.lower()}.py"
   ]
  }
 ],
 "metadata": {
  "interpreter": {
   "hash": "605fe966a75bc2c3dfa708e269323e6491854b30a36f4e77953579e94649bfba"
  },
  "kernelspec": {
   "display_name": "Python 3.8.8 64-bit ('ai': conda)",
   "name": "python3"
  },
  "language_info": {
   "codemirror_mode": {
    "name": "ipython",
    "version": 3
   },
   "file_extension": ".py",
   "mimetype": "text/x-python",
   "name": "python",
   "nbconvert_exporter": "python",
   "pygments_lexer": "ipython3",
   "version": "3.8.8"
  },
  "orig_nbformat": 4
 },
 "nbformat": 4,
 "nbformat_minor": 2
}
